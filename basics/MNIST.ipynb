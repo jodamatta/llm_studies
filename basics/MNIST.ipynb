{
 "cells": [
  {
   "cell_type": "code",
   "execution_count": 8,
   "id": "837027bd-43af-42b3-8f5f-ff4fb3675800",
   "metadata": {},
   "outputs": [],
   "source": [
    "import torch\n",
    "import torchvision"
   ]
  },
  {
   "cell_type": "code",
   "execution_count": 26,
   "id": "1a23b8d0-58aa-49f6-bb38-7a82aa8311f0",
   "metadata": {},
   "outputs": [],
   "source": [
    "n_epochs = 3\n",
    "batch_size_train = 64\n",
    "batch_size_test = 1000\n",
    "learning_rate = 0.01"
   ]
  },
  {
   "cell_type": "code",
   "execution_count": null,
   "id": "0e6febb3-cda1-40fe-8c79-8a680f94cd7a",
   "metadata": {},
   "outputs": [],
   "source": [
    "train_loader = torch.utils.data.DataLoader(\n",
    "  torchvision.datasets.MNIST('/files/', train=True, download=True,\n",
    "                             transform=torchvision.transforms.Compose([\n",
    "                               torchvision.transforms.ToTensor(),\n",
    "                               torchvision.transforms.Normalize(\n",
    "                                 (0.1307,), (0.3081,))\n",
    "                             ])),\n",
    "  batch_size=batch_size_train, shuffle=True)\n",
    "\n",
    "test_loader = torch.utils.data.DataLoader(\n",
    "  torchvision.datasets.MNIST('/files/', train=False, download=True,\n",
    "                             transform=torchvision.transforms.Compose([\n",
    "                               torchvision.transforms.ToTensor(),\n",
    "                               torchvision.transforms.Normalize(\n",
    "                                 (0.1307,), (0.3081,))\n",
    "                             ])),\n",
    "  batch_size=batch_size_test, shuffle=True)"
   ]
  },
  {
   "cell_type": "code",
   "execution_count": 11,
   "id": "07d90e09-6a40-42f8-8c4f-5225a8138a19",
   "metadata": {},
   "outputs": [],
   "source": [
    "examples = enumerate(test_loader)\n",
    "batch_idx, (example_data, example_targets) = next(examples)"
   ]
  },
  {
   "cell_type": "code",
   "execution_count": 12,
   "id": "4354dc24-e293-4380-b1c5-41156cc73c00",
   "metadata": {},
   "outputs": [
    {
     "data": {
      "text/plain": [
       "torch.Size([1000, 1, 28, 28])"
      ]
     },
     "execution_count": 12,
     "metadata": {},
     "output_type": "execute_result"
    }
   ],
   "source": [
    "example_data.shape"
   ]
  },
  {
   "cell_type": "code",
   "execution_count": 40,
   "id": "4747631f-4e70-425d-92e6-8f83803bc594",
   "metadata": {},
   "outputs": [
    {
     "data": {
      "image/png": "[encoded data removed]",
      "text/plain": [
       "<Figure size 640x480 with 6 Axes>"
      ]
     },
     "metadata": {},
     "output_type": "display_data"
    }
   ],
   "source": [
    "import matplotlib.pyplot as plt\n",
    "\n",
    "fig = plt.figure()\n",
    "for i in range(6):\n",
    "  plt.subplot(2,3,i+1)\n",
    "  plt.tight_layout()\n",
    "  plt.imshow(example_data[i][0], cmap='gray', interpolation='none')\n",
    "  plt.title(\"Ground Truth: {}\".format(example_targets[i]))\n",
    "  plt.xticks([])\n",
    "  plt.yticks([])"
   ]
  },
  {
   "cell_type": "code",
   "execution_count": 14,
   "id": "689ba765-09aa-4e4e-a4e3-8d2161acc92c",
   "metadata": {},
   "outputs": [],
   "source": [
    "import torch.nn as nn\n",
    "import torch.nn.functional as F\n",
    "import torch.optim as optim"
   ]
  },
  {
   "cell_type": "code",
   "execution_count": 67,
   "id": "9b049730-46a1-4377-a64a-8adff1118e83",
   "metadata": {},
   "outputs": [],
   "source": [
    "train_losses = []\n",
    "train_counter = []"
   ]
  },
  {
   "cell_type": "code",
   "execution_count": 71,
   "id": "75b29531-9f34-4297-8705-8b32a8d7ec51",
   "metadata": {},
   "outputs": [],
   "source": [
    "class NN(nn.Module):\n",
    "    def __init__(self):\n",
    "        super().__init__()\n",
    "        self.layer1 = nn.Linear(784, 16) \n",
    "        self.layer2 = nn.Linear(16, 16)  \n",
    "        self.layer3 = nn.Linear(16, 10)   \n",
    "        self.activation = nn.ReLU()\n",
    "\n",
    "    def forward(self, x):\n",
    "        x = x.view(x.size(0), -1)\n",
    "        x = self.activation(self.layer1(x))\n",
    "        x = self.activation(self.layer2(x))\n",
    "        x = self.layer3(x)\n",
    "        return x"
   ]
  },
  {
   "cell_type": "code",
   "execution_count": null,
   "id": "2ae79831-d7eb-4402-a0b6-5db86def8124",
   "metadata": {},
   "outputs": [],
   "source": [
    "def train(model, train_loader, optimizer, loss_fn, epoch):\n",
    "    model.train()\n",
    "    for batch_idx, (data, target) in enumerate(train_loader):\n",
    "        optimizer.zero_grad()\n",
    "        output = model(data)\n",
    "        loss = loss_fn(output, target)\n",
    "        loss.backward()\n",
    "        optimizer.step()\n",
    "\n",
    "        if batch_idx % 100 == 0:\n",
    "            print(f'Train Epoch: {epoch} [{batch_idx * len(data)}/{len(train_loader.dataset)} '\n",
    "                  f'({100. * batch_idx / len(train_loader):.0f}%)]\\tLoss: {loss.item():.6f}')\n",
    "            train_losses.append(loss.item())\n",
    "            train_counter.append((batch_idx*64) + ((epoch-1)*len(train_loader.dataset)))"
   ]
  },
  {
   "cell_type": "code",
   "execution_count": 72,
   "id": "0d13b99c-8b2b-4e06-8651-6d29426be6fb",
   "metadata": {},
   "outputs": [
    {
     "name": "stdout",
     "output_type": "stream",
     "text": [
      "Train Epoch: 3 [0/60000 (0%)]\tLoss: 2.302326\n",
      "Train Epoch: 3 [640/60000 (1%)]\tLoss: 1.347064\n",
      "Train Epoch: 3 [1280/60000 (2%)]\tLoss: 0.701262\n",
      "Train Epoch: 3 [1920/60000 (3%)]\tLoss: 0.786762\n",
      "Train Epoch: 3 [2560/60000 (4%)]\tLoss: 0.607135\n",
      "Train Epoch: 3 [3200/60000 (5%)]\tLoss: 0.628272\n",
      "Train Epoch: 3 [3840/60000 (6%)]\tLoss: 0.428499\n",
      "Train Epoch: 3 [4480/60000 (7%)]\tLoss: 0.420953\n",
      "Train Epoch: 3 [5120/60000 (9%)]\tLoss: 0.466333\n",
      "Train Epoch: 3 [5760/60000 (10%)]\tLoss: 0.332454\n",
      "Train Epoch: 3 [6400/60000 (11%)]\tLoss: 0.572877\n",
      "Train Epoch: 3 [7040/60000 (12%)]\tLoss: 0.359541\n",
      "Train Epoch: 3 [7680/60000 (13%)]\tLoss: 0.250146\n",
      "Train Epoch: 3 [8320/60000 (14%)]\tLoss: 0.346083\n",
      "Train Epoch: 3 [8960/60000 (15%)]\tLoss: 0.252028\n",
      "Train Epoch: 3 [9600/60000 (16%)]\tLoss: 0.238104\n",
      "Train Epoch: 3 [10240/60000 (17%)]\tLoss: 0.451139\n",
      "Train Epoch: 3 [10880/60000 (18%)]\tLoss: 0.388897\n",
      "Train Epoch: 3 [11520/60000 (19%)]\tLoss: 0.477428\n",
      "Train Epoch: 3 [12160/60000 (20%)]\tLoss: 0.371336\n",
      "Train Epoch: 3 [12800/60000 (21%)]\tLoss: 0.447247\n",
      "Train Epoch: 3 [13440/60000 (22%)]\tLoss: 0.594595\n",
      "Train Epoch: 3 [14080/60000 (23%)]\tLoss: 0.389618\n",
      "Train Epoch: 3 [14720/60000 (25%)]\tLoss: 0.166278\n",
      "Train Epoch: 3 [15360/60000 (26%)]\tLoss: 0.350340\n",
      "Train Epoch: 3 [16000/60000 (27%)]\tLoss: 0.541898\n",
      "Train Epoch: 3 [16640/60000 (28%)]\tLoss: 0.335785\n",
      "Train Epoch: 3 [17280/60000 (29%)]\tLoss: 0.445677\n",
      "Train Epoch: 3 [17920/60000 (30%)]\tLoss: 0.315658\n",
      "Train Epoch: 3 [18560/60000 (31%)]\tLoss: 0.248939\n",
      "Train Epoch: 3 [19200/60000 (32%)]\tLoss: 0.444462\n",
      "Train Epoch: 3 [19840/60000 (33%)]\tLoss: 0.239816\n",
      "Train Epoch: 3 [20480/60000 (34%)]\tLoss: 0.541344\n",
      "Train Epoch: 3 [21120/60000 (35%)]\tLoss: 0.455444\n",
      "Train Epoch: 3 [21760/60000 (36%)]\tLoss: 0.264559\n",
      "Train Epoch: 3 [22400/60000 (37%)]\tLoss: 0.266539\n",
      "Train Epoch: 3 [23040/60000 (38%)]\tLoss: 0.283377\n",
      "Train Epoch: 3 [23680/60000 (39%)]\tLoss: 0.614130\n",
      "Train Epoch: 3 [24320/60000 (41%)]\tLoss: 0.393767\n",
      "Train Epoch: 3 [24960/60000 (42%)]\tLoss: 0.437391\n",
      "Train Epoch: 3 [25600/60000 (43%)]\tLoss: 0.425527\n",
      "Train Epoch: 3 [26240/60000 (44%)]\tLoss: 0.313116\n",
      "Train Epoch: 3 [26880/60000 (45%)]\tLoss: 0.309810\n",
      "Train Epoch: 3 [27520/60000 (46%)]\tLoss: 0.521113\n",
      "Train Epoch: 3 [28160/60000 (47%)]\tLoss: 0.244080\n",
      "Train Epoch: 3 [28800/60000 (48%)]\tLoss: 0.301499\n",
      "Train Epoch: 3 [29440/60000 (49%)]\tLoss: 0.299665\n",
      "Train Epoch: 3 [30080/60000 (50%)]\tLoss: 0.331982\n",
      "Train Epoch: 3 [30720/60000 (51%)]\tLoss: 0.564931\n",
      "Train Epoch: 3 [31360/60000 (52%)]\tLoss: 0.214985\n",
      "Train Epoch: 3 [32000/60000 (53%)]\tLoss: 0.168517\n",
      "Train Epoch: 3 [32640/60000 (54%)]\tLoss: 0.328137\n",
      "Train Epoch: 3 [33280/60000 (55%)]\tLoss: 0.148653\n",
      "Train Epoch: 3 [33920/60000 (57%)]\tLoss: 0.342553\n",
      "Train Epoch: 3 [34560/60000 (58%)]\tLoss: 0.397971\n",
      "Train Epoch: 3 [35200/60000 (59%)]\tLoss: 0.389431\n",
      "Train Epoch: 3 [35840/60000 (60%)]\tLoss: 0.286558\n",
      "Train Epoch: 3 [36480/60000 (61%)]\tLoss: 0.388306\n",
      "Train Epoch: 3 [37120/60000 (62%)]\tLoss: 0.386887\n",
      "Train Epoch: 3 [37760/60000 (63%)]\tLoss: 0.353351\n",
      "Train Epoch: 3 [38400/60000 (64%)]\tLoss: 0.216242\n",
      "Train Epoch: 3 [39040/60000 (65%)]\tLoss: 0.421507\n",
      "Train Epoch: 3 [39680/60000 (66%)]\tLoss: 0.292354\n",
      "Train Epoch: 3 [40320/60000 (67%)]\tLoss: 0.561535\n",
      "Train Epoch: 3 [40960/60000 (68%)]\tLoss: 0.213020\n",
      "Train Epoch: 3 [41600/60000 (69%)]\tLoss: 0.339096\n",
      "Train Epoch: 3 [42240/60000 (70%)]\tLoss: 0.123496\n",
      "Train Epoch: 3 [42880/60000 (71%)]\tLoss: 0.374931\n",
      "Train Epoch: 3 [43520/60000 (72%)]\tLoss: 0.506037\n",
      "Train Epoch: 3 [44160/60000 (74%)]\tLoss: 0.522837\n",
      "Train Epoch: 3 [44800/60000 (75%)]\tLoss: 0.201774\n",
      "Train Epoch: 3 [45440/60000 (76%)]\tLoss: 0.290913\n",
      "Train Epoch: 3 [46080/60000 (77%)]\tLoss: 0.266686\n",
      "Train Epoch: 3 [46720/60000 (78%)]\tLoss: 0.332069\n",
      "Train Epoch: 3 [47360/60000 (79%)]\tLoss: 0.151573\n",
      "Train Epoch: 3 [48000/60000 (80%)]\tLoss: 0.426909\n",
      "Train Epoch: 3 [48640/60000 (81%)]\tLoss: 0.261609\n",
      "Train Epoch: 3 [49280/60000 (82%)]\tLoss: 0.163148\n",
      "Train Epoch: 3 [49920/60000 (83%)]\tLoss: 0.415243\n",
      "Train Epoch: 3 [50560/60000 (84%)]\tLoss: 0.338751\n",
      "Train Epoch: 3 [51200/60000 (85%)]\tLoss: 0.355550\n",
      "Train Epoch: 3 [51840/60000 (86%)]\tLoss: 0.167381\n",
      "Train Epoch: 3 [52480/60000 (87%)]\tLoss: 0.346014\n",
      "Train Epoch: 3 [53120/60000 (88%)]\tLoss: 0.441097\n",
      "Train Epoch: 3 [53760/60000 (90%)]\tLoss: 0.291961\n",
      "Train Epoch: 3 [54400/60000 (91%)]\tLoss: 0.431895\n",
      "Train Epoch: 3 [55040/60000 (92%)]\tLoss: 0.235460\n",
      "Train Epoch: 3 [55680/60000 (93%)]\tLoss: 0.306353\n",
      "Train Epoch: 3 [56320/60000 (94%)]\tLoss: 0.183232\n",
      "Train Epoch: 3 [56960/60000 (95%)]\tLoss: 0.327902\n",
      "Train Epoch: 3 [57600/60000 (96%)]\tLoss: 0.165544\n",
      "Train Epoch: 3 [58240/60000 (97%)]\tLoss: 0.288847\n",
      "Train Epoch: 3 [58880/60000 (98%)]\tLoss: 0.437150\n",
      "Train Epoch: 3 [59520/60000 (99%)]\tLoss: 0.288444\n"
     ]
    }
   ],
   "source": [
    "model = NN()\n",
    "optimizer = torch.optim.Adam(model.parameters(), lr=learning_rate)\n",
    "loss_fn = nn.CrossEntropyLoss()\n",
    "train(model,train_loader, optimizer, loss_fn, n_epochs)"
   ]
  },
  {
   "cell_type": "code",
   "execution_count": 73,
   "id": "9bf54027-0c51-486c-9e85-f3507f3c3613",
   "metadata": {},
   "outputs": [
    {
     "name": "stdout",
     "output_type": "stream",
     "text": [
      "Test accuracy: 92.16%\n"
     ]
    }
   ],
   "source": [
    "correct = 0\n",
    "total = 0\n",
    "\n",
    "model.eval()\n",
    "with torch.no_grad():\n",
    "    for data, target in test_loader:\n",
    "        output = model(data)\n",
    "        pred = output.argmax(dim = 1)\n",
    "        correct += (pred == target).sum().item()\n",
    "        total += target.size(0)\n",
    "\n",
    "accuracy = correct/total\n",
    "print(f'Test accuracy: {accuracy *100:.2f}%')"
   ]
  },
  {
   "cell_type": "code",
   "execution_count": 70,
   "id": "c2062ccc-2e0d-41cd-925c-fce013b91eca",
   "metadata": {},
   "outputs": [
    {
     "data": {
      "text/plain": [
       "Text(0, 0.5, 'negative log likelihood loss')"
      ]
     },
     "execution_count": 70,
     "metadata": {},
     "output_type": "execute_result"
    },
    {
     "data": {
      "image/png": "[encoded data removed]",
      "text/plain": [
       "<Figure size 640x480 with 1 Axes>"
      ]
     },
     "metadata": {},
     "output_type": "display_data"
    }
   ],
   "source": [
    "fig = plt.figure()\n",
    "plt.plot(train_counter, train_losses, color='blue')\n",
    "plt.legend(['Train Loss'], loc='upper right')\n",
    "plt.xlabel('number of training examples seen')\n",
    "plt.ylabel('negative log likelihood loss')"
   ]
  }
 ],
 "metadata": {
  "kernelspec": {
   "display_name": "Python 3 (ipykernel)",
   "language": "python",
   "name": "python3"
  },
  "language_info": {
   "codemirror_mode": {
    "name": "ipython",
    "version": 3
   },
   "file_extension": ".py",
   "mimetype": "text/x-python",
   "name": "python",
   "nbconvert_exporter": "python",
   "pygments_lexer": "ipython3",
   "version": "3.10.11"
  }
 },
 "nbformat": 4,
 "nbformat_minor": 5
}
